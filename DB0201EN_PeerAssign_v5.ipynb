{
  "nbformat": 4,
  "nbformat_minor": 0,
  "metadata": {
    "kernelspec": {
      "display_name": "Python 3",
      "language": "python",
      "name": "python3"
    },
    "language_info": {
      "codemirror_mode": {
        "name": "ipython",
        "version": 3
      },
      "file_extension": ".py",
      "mimetype": "text/x-python",
      "name": "python",
      "nbconvert_exporter": "python",
      "pygments_lexer": "ipython3",
      "version": "3.8.3"
    },
    "colab": {
      "name": "DB0201EN-PeerAssign-v5.ipynb",
      "provenance": [],
      "include_colab_link": true
    }
  },
  "cells": [
    {
      "cell_type": "markdown",
      "metadata": {
        "id": "view-in-github",
        "colab_type": "text"
      },
      "source": [
        "<a href=\"https://colab.research.google.com/github/Sujitha-Sunkara/Databases-and-SQL-for-Data-Science-with-Python/blob/main/DB0201EN_PeerAssign_v5.ipynb\" target=\"_parent\"><img src=\"https://colab.research.google.com/assets/colab-badge.svg\" alt=\"Open In Colab\"/></a>"
      ]
    },
    {
      "cell_type": "markdown",
      "metadata": {
        "id": "rxnTnWOqjCVP"
      },
      "source": [
        "<center>\n",
        "    <img src=\"https://s3-api.us-geo.objectstorage.softlayer.net/cf-courses-data/CognitiveClass/Logos/organization_logo/organization_logo.png\" width=\"300\" alt=\"cognitiveclass.ai logo\"  />\n",
        "</center>\n",
        "\n",
        "<h1 align=center><font size = 5>Assignment: Notebook for Peer Assignment</font></h1>\n"
      ]
    },
    {
      "cell_type": "markdown",
      "metadata": {
        "id": "rVID_qIojCVR"
      },
      "source": [
        "# Introduction\n",
        "\n",
        "Using this Python notebook you will:\n",
        "\n",
        "1.  Understand three Chicago datasets\n",
        "2.  Load the three datasets into three tables in a Db2 database\n",
        "3.  Execute SQL queries to answer assignment questions\n"
      ]
    },
    {
      "cell_type": "markdown",
      "metadata": {
        "id": "AbXVAnqmjCVR"
      },
      "source": [
        "## Understand the datasets\n",
        "\n",
        "To complete the assignment problems in this notebook you will be using three datasets that are available on the city of Chicago's Data Portal:\n",
        "\n",
        "1.  <a href=\"https://data.cityofchicago.org/Health-Human-Services/Census-Data-Selected-socioeconomic-indicators-in-C/kn9c-c2s2?utm_medium=Exinfluencer&utm_source=Exinfluencer&utm_content=000026UJ&utm_term=10006555&utm_id=NA-SkillsNetwork-Channel-SkillsNetworkCoursesIBMDeveloperSkillsNetworkDB0201ENSkillsNetwork20127838-2021-01-01\">Socioeconomic Indicators in Chicago</a>\n",
        "2.  <a href=\"https://data.cityofchicago.org/Education/Chicago-Public-Schools-Progress-Report-Cards-2011-/9xs2-f89t?utm_medium=Exinfluencer&utm_source=Exinfluencer&utm_content=000026UJ&utm_term=10006555&utm_id=NA-SkillsNetwork-Channel-SkillsNetworkCoursesIBMDeveloperSkillsNetworkDB0201ENSkillsNetwork20127838-2021-01-01\">Chicago Public Schools</a>\n",
        "3.  <a href=\"https://data.cityofchicago.org/Public-Safety/Crimes-2001-to-present/ijzp-q8t2?utm_medium=Exinfluencer&utm_source=Exinfluencer&utm_content=000026UJ&utm_term=10006555&utm_id=NA-SkillsNetwork-Channel-SkillsNetworkCoursesIBMDeveloperSkillsNetworkDB0201ENSkillsNetwork20127838-2021-01-01\">Chicago Crime Data</a>\n",
        "\n",
        "### 1. Socioeconomic Indicators in Chicago\n",
        "\n",
        "This dataset contains a selection of six socioeconomic indicators of public health significance and a “hardship index,” for each Chicago community area, for the years 2008 – 2012.\n",
        "\n",
        "A detailed description of this dataset and the original dataset can be obtained from the Chicago Data Portal at:\n",
        "[https://data.cityofchicago.org/Health-Human-Services/Census-Data-Selected-socioeconomic-indicators-in-C/kn9c-c2s2](https://data.cityofchicago.org/Health-Human-Services/Census-Data-Selected-socioeconomic-indicators-in-C/kn9c-c2s2?utm_medium=Exinfluencer&utm_source=Exinfluencer&utm_content=000026UJ&utm_term=10006555&utm_id=NA-SkillsNetwork-Channel-SkillsNetworkCoursesIBMDeveloperSkillsNetworkDB0201ENSkillsNetwork20127838-2021-01-01&cm_mmc=Email_Newsletter-\\_-Developer_Ed%2BTech-\\_-WW_WW-\\_-SkillsNetwork-Courses-IBMDeveloperSkillsNetwork-DB0201EN-SkillsNetwork-20127838&cm_mmca1=000026UJ&cm_mmca2=10006555&cm_mmca3=M12345678&cvosrc=email.Newsletter.M12345678&cvo_campaign=000026UJ)\n",
        "\n",
        "### 2. Chicago Public Schools\n",
        "\n",
        "This dataset shows all school level performance data used to create CPS School Report Cards for the 2011-2012 school year. This dataset is provided by the city of Chicago's Data Portal.\n",
        "\n",
        "A detailed description of this dataset and the original dataset can be obtained from the Chicago Data Portal at:\n",
        "[https://data.cityofchicago.org/Education/Chicago-Public-Schools-Progress-Report-Cards-2011-/9xs2-f89t](https://data.cityofchicago.org/Education/Chicago-Public-Schools-Progress-Report-Cards-2011-/9xs2-f89t?utm_medium=Exinfluencer&utm_source=Exinfluencer&utm_content=000026UJ&utm_term=10006555&utm_id=NA-SkillsNetwork-Channel-SkillsNetworkCoursesIBMDeveloperSkillsNetworkDB0201ENSkillsNetwork20127838-2021-01-01&cm_mmc=Email_Newsletter-\\_-Developer_Ed%2BTech-\\_-WW_WW-\\_-SkillsNetwork-Courses-IBMDeveloperSkillsNetwork-DB0201EN-SkillsNetwork-20127838&cm_mmca1=000026UJ&cm_mmca2=10006555&cm_mmca3=M12345678&cvosrc=email.Newsletter.M12345678&cvo_campaign=000026UJ)\n",
        "\n",
        "### 3. Chicago Crime Data\n",
        "\n",
        "This dataset reflects reported incidents of crime (with the exception of murders where data exists for each victim) that occurred in the City of Chicago from 2001 to present, minus the most recent seven days.\n",
        "\n",
        "A detailed description of this dataset and the original dataset can be obtained from the Chicago Data Portal at:\n",
        "[https://data.cityofchicago.org/Public-Safety/Crimes-2001-to-present/ijzp-q8t2](https://data.cityofchicago.org/Public-Safety/Crimes-2001-to-present/ijzp-q8t2?utm_medium=Exinfluencer&utm_source=Exinfluencer&utm_content=000026UJ&utm_term=10006555&utm_id=NA-SkillsNetwork-Channel-SkillsNetworkCoursesIBMDeveloperSkillsNetworkDB0201ENSkillsNetwork20127838-2021-01-01&cm_mmc=Email_Newsletter-\\_-Developer_Ed%2BTech-\\_-WW_WW-\\_-SkillsNetwork-Courses-IBMDeveloperSkillsNetwork-DB0201EN-SkillsNetwork-20127838&cm_mmca1=000026UJ&cm_mmca2=10006555&cm_mmca3=M12345678&cvosrc=email.Newsletter.M12345678&cvo_campaign=000026UJ)\n"
      ]
    },
    {
      "cell_type": "markdown",
      "metadata": {
        "id": "6X-HUYRJjCVS"
      },
      "source": [
        "### Download the datasets\n",
        "\n",
        "This assignment requires you to have these three tables populated with a subset of the whole datasets.\n",
        "\n",
        "In many cases the dataset to be analyzed is available as a .CSV (comma separated values) file, perhaps on the internet. Click on the links below to download and save the datasets (.CSV files):\n",
        "\n",
        "*   <a href=\"https://cf-courses-data.s3.us.cloud-object-storage.appdomain.cloud/IBMDeveloperSkillsNetwork-DB0201EN-SkillsNetwork/labs/FinalModule_Coursera_V5/data/ChicagoCensusData.csv?utm_medium=Exinfluencer&utm_source=Exinfluencer&utm_content=000026UJ&utm_term=10006555&utm_id=NA-SkillsNetwork-Channel-SkillsNetworkCoursesIBMDeveloperSkillsNetworkDB0201ENSkillsNetwork20127838-2021-01-01\" target=\"_blank\">Chicago Census Data</a>\n",
        "\n",
        "*   <a href=\"https://cf-courses-data.s3.us.cloud-object-storage.appdomain.cloud/IBMDeveloperSkillsNetwork-DB0201EN-SkillsNetwork/labs/FinalModule_Coursera_V5/data/ChicagoPublicSchools.csv?utm_medium=Exinfluencer&utm_source=Exinfluencer&utm_content=000026UJ&utm_term=10006555&utm_id=NA-SkillsNetwork-Channel-SkillsNetworkCoursesIBMDeveloperSkillsNetworkDB0201ENSkillsNetwork20127838-2021-01-01\" target=\"_blank\">Chicago Public Schools</a>\n",
        "\n",
        "*   <a href=\"https://cf-courses-data.s3.us.cloud-object-storage.appdomain.cloud/IBMDeveloperSkillsNetwork-DB0201EN-SkillsNetwork/labs/FinalModule_Coursera_V5/data/ChicagoCrimeData.csv?utm_medium=Exinfluencer&utm_source=Exinfluencer&utm_content=000026UJ&utm_term=10006555&utm_id=NA-SkillsNetwork-Channel-SkillsNetworkCoursesIBMDeveloperSkillsNetworkDB0201ENSkillsNetwork20127838-2021-01-01\" target=\"_blank\">Chicago Crime Data</a>\n",
        "\n",
        "**NOTE:** Ensure you have downloaded the datasets using the links above instead of directly from the Chicago Data Portal. The versions linked here are subsets of the original datasets and have some of the column names modified to be more database friendly which will make it easier to complete this assignment.\n"
      ]
    },
    {
      "cell_type": "markdown",
      "metadata": {
        "id": "k4OoZTx1jCVT"
      },
      "source": [
        "### Store the datasets in database tables\n",
        "\n",
        "To analyze the data using SQL, it first needs to be stored in the database.\n",
        "\n",
        "While it is easier to read the dataset into a Pandas dataframe and then PERSIST it into the database as we saw in Week 3 Lab 3, it results in mapping to default datatypes which may not be optimal for SQL querying. For example a long textual field may map to a CLOB instead of a VARCHAR.\n",
        "\n",
        "Therefore, **it is highly recommended to manually load the table using the database console LOAD tool, as indicated in Week 2 Lab 1 Part II**. The only difference with that lab is that in Step 5 of the instructions you will need to click on create \"(+) New Table\" and specify the name of the table you want to create and then click \"Next\".\n",
        "\n",
        "<img src = \"https://cf-courses-data.s3.us.cloud-object-storage.appdomain.cloud/IBMDeveloperSkillsNetwork-DB0201EN-SkillsNetwork/labs/FinalModule_Coursera_V5/images/LoadingData.png\">\n",
        "\n",
        "##### Now open the Db2 console, open the LOAD tool, Select / Drag the .CSV file for the first dataset, Next create a New Table, and then follow the steps on-screen instructions to load the data. Name the new tables as follows:\n",
        "\n",
        "1.  **CENSUS_DATA**\n",
        "2.  **CHICAGO_PUBLIC_SCHOOLS**\n",
        "3.  **CHICAGO_CRIME_DATA**\n"
      ]
    },
    {
      "cell_type": "markdown",
      "metadata": {
        "id": "paLD1whMjCVU"
      },
      "source": [
        "### Connect to the database\n",
        "\n",
        "Let us first load the SQL extension and establish a connection with the database\n"
      ]
    },
    {
      "cell_type": "code",
      "metadata": {
        "colab": {
          "base_uri": "https://localhost:8080/",
          "height": 1000
        },
        "id": "in1AIy8IjCVU",
        "outputId": "a78223b3-d283-4383-e43a-3da9c0bd8dba"
      },
      "source": [
        "!pip install sqlalchemy\n",
        "!pip install --force-reinstall ibm_db ibm_db_sa\n",
        "!pip install sqlalchemy==1.3.9\n",
        "!pip install ibm_db_sa\n",
        "!pip install ipython-sql"
      ],
      "execution_count": null,
      "outputs": [
        {
          "output_type": "stream",
          "name": "stdout",
          "text": [
            "\u001b[33mWARNING: Ignoring invalid distribution -bm-db (/usr/local/lib/python3.7/dist-packages)\u001b[0m\n",
            "\u001b[33mWARNING: Ignoring invalid distribution -bm-db (/usr/local/lib/python3.7/dist-packages)\u001b[0m\n",
            "Requirement already satisfied: sqlalchemy in /usr/local/lib/python3.7/dist-packages (1.3.9)\n",
            "\u001b[33mWARNING: Ignoring invalid distribution -bm-db (/usr/local/lib/python3.7/dist-packages)\u001b[0m\n",
            "\u001b[33mWARNING: Ignoring invalid distribution -bm-db (/usr/local/lib/python3.7/dist-packages)\u001b[0m\n",
            "\u001b[33mWARNING: Ignoring invalid distribution -bm-db (/usr/local/lib/python3.7/dist-packages)\u001b[0m\n",
            "Collecting ibm_db\n",
            "  Using cached ibm_db-3.1.0-cp37-cp37m-linux_x86_64.whl\n",
            "Collecting ibm_db_sa\n",
            "  Using cached ibm_db_sa-0.3.7-py3-none-any.whl\n",
            "Collecting sqlalchemy>=0.7.3\n",
            "  Using cached SQLAlchemy-1.4.27-cp37-cp37m-manylinux_2_5_x86_64.manylinux1_x86_64.manylinux_2_17_x86_64.manylinux2014_x86_64.whl (1.6 MB)\n",
            "Collecting greenlet!=0.4.17\n",
            "  Using cached greenlet-1.1.2-cp37-cp37m-manylinux_2_17_x86_64.manylinux2014_x86_64.whl (150 kB)\n",
            "Collecting importlib-metadata\n",
            "  Using cached importlib_metadata-4.8.2-py3-none-any.whl (17 kB)\n",
            "Collecting typing-extensions>=3.6.4\n",
            "  Using cached typing_extensions-4.0.0-py3-none-any.whl (22 kB)\n",
            "Collecting zipp>=0.5\n",
            "  Using cached zipp-3.6.0-py3-none-any.whl (5.3 kB)\n",
            "\u001b[33mWARNING: Ignoring invalid distribution -bm-db (/usr/local/lib/python3.7/dist-packages)\u001b[0m\n",
            "Installing collected packages: zipp, typing-extensions, importlib-metadata, greenlet, sqlalchemy, ibm-db, ibm-db-sa\n",
            "  Attempting uninstall: zipp\n",
            "\u001b[33m    WARNING: Ignoring invalid distribution -bm-db (/usr/local/lib/python3.7/dist-packages)\u001b[0m\n",
            "    Found existing installation: zipp 3.6.0\n",
            "    Uninstalling zipp-3.6.0:\n",
            "      Successfully uninstalled zipp-3.6.0\n",
            "  Attempting uninstall: typing-extensions\n",
            "\u001b[33m    WARNING: Ignoring invalid distribution -bm-db (/usr/local/lib/python3.7/dist-packages)\u001b[0m\n",
            "    Found existing installation: typing-extensions 4.0.0\n",
            "    Uninstalling typing-extensions-4.0.0:\n",
            "      Successfully uninstalled typing-extensions-4.0.0\n",
            "  Attempting uninstall: importlib-metadata\n",
            "\u001b[33m    WARNING: Ignoring invalid distribution -bm-db (/usr/local/lib/python3.7/dist-packages)\u001b[0m\n",
            "    Found existing installation: importlib-metadata 4.8.2\n",
            "    Uninstalling importlib-metadata-4.8.2:\n",
            "      Successfully uninstalled importlib-metadata-4.8.2\n",
            "  Attempting uninstall: greenlet\n",
            "\u001b[33m    WARNING: Ignoring invalid distribution -bm-db (/usr/local/lib/python3.7/dist-packages)\u001b[0m\n",
            "    Found existing installation: greenlet 1.1.2\n",
            "    Uninstalling greenlet-1.1.2:\n",
            "      Successfully uninstalled greenlet-1.1.2\n",
            "  Attempting uninstall: sqlalchemy\n",
            "\u001b[33m    WARNING: Ignoring invalid distribution -bm-db (/usr/local/lib/python3.7/dist-packages)\u001b[0m\n",
            "    Found existing installation: SQLAlchemy 1.3.9\n",
            "    Uninstalling SQLAlchemy-1.3.9:\n",
            "      Successfully uninstalled SQLAlchemy-1.3.9\n",
            "  Attempting uninstall: ibm-db\n",
            "\u001b[33m    WARNING: Ignoring invalid distribution -bm-db (/usr/local/lib/python3.7/dist-packages)\u001b[0m\n",
            "    Found existing installation: ibm-db 3.1.0\n",
            "    Uninstalling ibm-db-3.1.0:\n",
            "      Successfully uninstalled ibm-db-3.1.0\n",
            "  Attempting uninstall: ibm-db-sa\n",
            "\u001b[33m    WARNING: Ignoring invalid distribution -bm-db (/usr/local/lib/python3.7/dist-packages)\u001b[0m\n",
            "    Found existing installation: ibm-db-sa 0.3.7\n",
            "    Uninstalling ibm-db-sa-0.3.7:\n",
            "      Successfully uninstalled ibm-db-sa-0.3.7\n",
            "\u001b[33mWARNING: Ignoring invalid distribution -bm-db (/usr/local/lib/python3.7/dist-packages)\u001b[0m\n",
            "\u001b[33mWARNING: Ignoring invalid distribution -bm-db (/usr/local/lib/python3.7/dist-packages)\u001b[0m\n",
            "\u001b[33mWARNING: Ignoring invalid distribution -bm-db (/usr/local/lib/python3.7/dist-packages)\u001b[0m\n",
            "\u001b[33mWARNING: Ignoring invalid distribution -bm-db (/usr/local/lib/python3.7/dist-packages)\u001b[0m\n",
            "\u001b[33mWARNING: Ignoring invalid distribution -bm-db (/usr/local/lib/python3.7/dist-packages)\u001b[0m\n",
            "\u001b[33mWARNING: Ignoring invalid distribution -bm-db (/usr/local/lib/python3.7/dist-packages)\u001b[0m\n",
            "\u001b[33mWARNING: Ignoring invalid distribution -bm-db (/usr/local/lib/python3.7/dist-packages)\u001b[0m\n",
            "\u001b[31mERROR: pip's dependency resolver does not currently take into account all the packages that are installed. This behaviour is the source of the following dependency conflicts.\n",
            "arviz 0.11.4 requires typing-extensions<4,>=3.7.4.3, but you have typing-extensions 4.0.0 which is incompatible.\u001b[0m\n",
            "Successfully installed greenlet-1.1.2 ibm-db-3.1.0 ibm-db-sa-0.3.7 importlib-metadata-4.8.2 sqlalchemy-1.4.27 typing-extensions-4.0.0 zipp-3.6.0\n"
          ]
        },
        {
          "output_type": "display_data",
          "data": {
            "application/vnd.colab-display-data+json": {
              "pip_warning": {
                "packages": [
                  "ibm_db",
                  "ibm_db_dbi",
                  "importlib_metadata",
                  "sqlalchemy",
                  "zipp"
                ]
              }
            }
          },
          "metadata": {}
        },
        {
          "output_type": "stream",
          "name": "stdout",
          "text": [
            "\u001b[33mWARNING: Ignoring invalid distribution -bm-db (/usr/local/lib/python3.7/dist-packages)\u001b[0m\n",
            "\u001b[33mWARNING: Ignoring invalid distribution -bm-db (/usr/local/lib/python3.7/dist-packages)\u001b[0m\n",
            "Collecting sqlalchemy==1.3.9\n",
            "  Using cached SQLAlchemy-1.3.9-cp37-cp37m-linux_x86_64.whl\n",
            "\u001b[33mWARNING: Ignoring invalid distribution -bm-db (/usr/local/lib/python3.7/dist-packages)\u001b[0m\n",
            "Installing collected packages: sqlalchemy\n",
            "  Attempting uninstall: sqlalchemy\n",
            "\u001b[33m    WARNING: Ignoring invalid distribution -bm-db (/usr/local/lib/python3.7/dist-packages)\u001b[0m\n",
            "    Found existing installation: SQLAlchemy 1.4.27\n",
            "    Uninstalling SQLAlchemy-1.4.27:\n",
            "      Successfully uninstalled SQLAlchemy-1.4.27\n",
            "\u001b[33mWARNING: Ignoring invalid distribution -bm-db (/usr/local/lib/python3.7/dist-packages)\u001b[0m\n",
            "Successfully installed sqlalchemy-1.3.9\n"
          ]
        },
        {
          "output_type": "display_data",
          "data": {
            "application/vnd.colab-display-data+json": {
              "pip_warning": {
                "packages": [
                  "sqlalchemy"
                ]
              }
            }
          },
          "metadata": {}
        },
        {
          "output_type": "stream",
          "name": "stdout",
          "text": [
            "\u001b[33mWARNING: Ignoring invalid distribution -bm-db (/usr/local/lib/python3.7/dist-packages)\u001b[0m\n",
            "\u001b[33mWARNING: Ignoring invalid distribution -bm-db (/usr/local/lib/python3.7/dist-packages)\u001b[0m\n",
            "Requirement already satisfied: ibm_db_sa in /usr/local/lib/python3.7/dist-packages (0.3.7)\n",
            "Requirement already satisfied: sqlalchemy>=0.7.3 in /usr/local/lib/python3.7/dist-packages (from ibm_db_sa) (1.3.9)\n",
            "Requirement already satisfied: ibm-db>=2.0.0 in /usr/local/lib/python3.7/dist-packages (from ibm_db_sa) (3.1.0)\n",
            "\u001b[33mWARNING: Ignoring invalid distribution -bm-db (/usr/local/lib/python3.7/dist-packages)\u001b[0m\n",
            "\u001b[33mWARNING: Ignoring invalid distribution -bm-db (/usr/local/lib/python3.7/dist-packages)\u001b[0m\n",
            "\u001b[33mWARNING: Ignoring invalid distribution -bm-db (/usr/local/lib/python3.7/dist-packages)\u001b[0m\n",
            "Requirement already satisfied: ipython-sql in /usr/local/lib/python3.7/dist-packages (0.3.9)\n",
            "Requirement already satisfied: prettytable in /usr/local/lib/python3.7/dist-packages (from ipython-sql) (2.4.0)\n",
            "Requirement already satisfied: ipython-genutils>=0.1.0 in /usr/local/lib/python3.7/dist-packages (from ipython-sql) (0.2.0)\n",
            "Requirement already satisfied: ipython>=1.0 in /usr/local/lib/python3.7/dist-packages (from ipython-sql) (5.5.0)\n",
            "Requirement already satisfied: sqlparse in /usr/local/lib/python3.7/dist-packages (from ipython-sql) (0.4.2)\n",
            "Requirement already satisfied: sqlalchemy>=0.6.7 in /usr/local/lib/python3.7/dist-packages (from ipython-sql) (1.3.9)\n",
            "Requirement already satisfied: six in /usr/local/lib/python3.7/dist-packages (from ipython-sql) (1.15.0)\n",
            "Requirement already satisfied: setuptools>=18.5 in /usr/local/lib/python3.7/dist-packages (from ipython>=1.0->ipython-sql) (57.4.0)\n",
            "Requirement already satisfied: pickleshare in /usr/local/lib/python3.7/dist-packages (from ipython>=1.0->ipython-sql) (0.7.5)\n",
            "Requirement already satisfied: decorator in /usr/local/lib/python3.7/dist-packages (from ipython>=1.0->ipython-sql) (4.4.2)\n",
            "Requirement already satisfied: simplegeneric>0.8 in /usr/local/lib/python3.7/dist-packages (from ipython>=1.0->ipython-sql) (0.8.1)\n",
            "Requirement already satisfied: traitlets>=4.2 in /usr/local/lib/python3.7/dist-packages (from ipython>=1.0->ipython-sql) (5.1.1)\n",
            "Requirement already satisfied: prompt-toolkit<2.0.0,>=1.0.4 in /usr/local/lib/python3.7/dist-packages (from ipython>=1.0->ipython-sql) (1.0.18)\n",
            "Requirement already satisfied: pexpect in /usr/local/lib/python3.7/dist-packages (from ipython>=1.0->ipython-sql) (4.8.0)\n",
            "Requirement already satisfied: pygments in /usr/local/lib/python3.7/dist-packages (from ipython>=1.0->ipython-sql) (2.6.1)\n",
            "Requirement already satisfied: wcwidth in /usr/local/lib/python3.7/dist-packages (from prompt-toolkit<2.0.0,>=1.0.4->ipython>=1.0->ipython-sql) (0.2.5)\n",
            "Requirement already satisfied: ptyprocess>=0.5 in /usr/local/lib/python3.7/dist-packages (from pexpect->ipython>=1.0->ipython-sql) (0.7.0)\n",
            "Requirement already satisfied: importlib-metadata in /usr/local/lib/python3.7/dist-packages (from prettytable->ipython-sql) (4.8.2)\n",
            "Requirement already satisfied: zipp>=0.5 in /usr/local/lib/python3.7/dist-packages (from importlib-metadata->prettytable->ipython-sql) (3.6.0)\n",
            "Requirement already satisfied: typing-extensions>=3.6.4 in /usr/local/lib/python3.7/dist-packages (from importlib-metadata->prettytable->ipython-sql) (4.0.0)\n",
            "\u001b[33mWARNING: Ignoring invalid distribution -bm-db (/usr/local/lib/python3.7/dist-packages)\u001b[0m\n"
          ]
        }
      ]
    },
    {
      "cell_type": "code",
      "metadata": {
        "id": "rZHd9NinpfNl"
      },
      "source": [
        "import ibm_db_dbi "
      ],
      "execution_count": null,
      "outputs": []
    },
    {
      "cell_type": "code",
      "metadata": {
        "id": "vnKbrGysjHk-"
      },
      "source": [
        "import ibm_db"
      ],
      "execution_count": null,
      "outputs": []
    },
    {
      "cell_type": "code",
      "metadata": {
        "id": "i4KE1PHKjCVV"
      },
      "source": [
        "%load_ext sql"
      ],
      "execution_count": null,
      "outputs": []
    },
    {
      "cell_type": "markdown",
      "metadata": {
        "id": "V7xt05I5jCVV"
      },
      "source": [
        "In the next cell enter your db2 connection string. Recall you created Service Credentials for your Db2 instance in first lab in Week 3. From your Db2 service credentials copy everything after db2:// (except the double quote at the end) and paste it in the cell below after ibm_db_sa://\n",
        "\n",
        "<img src =\"https://cf-courses-data.s3.us.cloud-object-storage.appdomain.cloud/IBMDeveloperSkillsNetwork-DB0201EN-SkillsNetwork/labs/FinalModule_Coursera_V5/images/details.png\">\n"
      ]
    },
    {
      "cell_type": "code",
      "metadata": {
        "colab": {
          "base_uri": "https://localhost:8080/",
          "height": 35
        },
        "id": "AQKGD3C7jCVW",
        "outputId": "51ecc9e1-0be1-440e-9c99-6412bb68a9ae"
      },
      "source": [
        "# Remember the connection string is of the format:\n",
        "# %sql ibm_db_sa://my-username:my-password@my-hostname:my-port/my-db-name?security=SSL\n",
        "# Enter the connection string for your Db2 on Cloud database instance below\n",
        "%sql ibm_db_sa://lbn23443:hMJ0tMHHUk8NUXm1@b0aebb68-94fa-46ec-a1fc-1c999edb6187.c3n41cmd0nqnrk39u98g.databases.appdomain.cloud:31249/bludb?security=SSL"
      ],
      "execution_count": null,
      "outputs": [
        {
          "output_type": "execute_result",
          "data": {
            "application/vnd.google.colaboratory.intrinsic+json": {
              "type": "string"
            },
            "text/plain": [
              "'Connected: lbn23443@bludb'"
            ]
          },
          "metadata": {},
          "execution_count": 4
        }
      ]
    },
    {
      "cell_type": "markdown",
      "metadata": {
        "id": "HSjKrSxXjCVW"
      },
      "source": [
        "## Problems\n",
        "\n",
        "Now write and execute SQL queries to solve assignment problems\n",
        "\n",
        "### Problem 1\n",
        "\n",
        "##### Find the total number of crimes recorded in the CRIME table.\n"
      ]
    },
    {
      "cell_type": "code",
      "metadata": {
        "colab": {
          "base_uri": "https://localhost:8080/",
          "height": 95
        },
        "id": "C0lyxXu0jCVW",
        "outputId": "dd6e807c-7ecc-4a38-cb3e-322180c33568"
      },
      "source": [
        "%sql select distinct(count(*)) from Chicago_Crime_Data;"
      ],
      "execution_count": null,
      "outputs": [
        {
          "output_type": "stream",
          "name": "stdout",
          "text": [
            " * ibm_db_sa://lbn23443:***@b0aebb68-94fa-46ec-a1fc-1c999edb6187.c3n41cmd0nqnrk39u98g.databases.appdomain.cloud:31249/bludb\n",
            "Done.\n"
          ]
        },
        {
          "output_type": "execute_result",
          "data": {
            "text/html": [
              "<table>\n",
              "    <thead>\n",
              "        <tr>\n",
              "            <th>1</th>\n",
              "        </tr>\n",
              "    </thead>\n",
              "    <tbody>\n",
              "        <tr>\n",
              "            <td>533</td>\n",
              "        </tr>\n",
              "    </tbody>\n",
              "</table>"
            ],
            "text/plain": [
              "[(533,)]"
            ]
          },
          "metadata": {},
          "execution_count": 5
        }
      ]
    },
    {
      "cell_type": "markdown",
      "metadata": {
        "id": "S83jI3nUjCVW"
      },
      "source": [
        "### Problem 2\n",
        "\n",
        "##### List community areas with per capita income less than 11000.\n"
      ]
    },
    {
      "cell_type": "code",
      "metadata": {
        "colab": {
          "base_uri": "https://localhost:8080/",
          "height": 158
        },
        "id": "zb2Lc9mGjCVW",
        "outputId": "e7889772-ca42-49fa-b813-f91669b72e33"
      },
      "source": [
        "%sql select Community_area_name , per_capita_income from Chicago_Census_Data where per_capita_income < 11000;"
      ],
      "execution_count": null,
      "outputs": [
        {
          "output_type": "stream",
          "name": "stdout",
          "text": [
            " * ibm_db_sa://lbn23443:***@b0aebb68-94fa-46ec-a1fc-1c999edb6187.c3n41cmd0nqnrk39u98g.databases.appdomain.cloud:31249/bludb\n",
            "Done.\n"
          ]
        },
        {
          "output_type": "execute_result",
          "data": {
            "text/html": [
              "<table>\n",
              "    <thead>\n",
              "        <tr>\n",
              "            <th>community_area_name</th>\n",
              "            <th>per_capita_income</th>\n",
              "        </tr>\n",
              "    </thead>\n",
              "    <tbody>\n",
              "        <tr>\n",
              "            <td>West Garfield Park</td>\n",
              "            <td>10934</td>\n",
              "        </tr>\n",
              "        <tr>\n",
              "            <td>South Lawndale</td>\n",
              "            <td>10402</td>\n",
              "        </tr>\n",
              "        <tr>\n",
              "            <td>Fuller Park</td>\n",
              "            <td>10432</td>\n",
              "        </tr>\n",
              "        <tr>\n",
              "            <td>Riverdale</td>\n",
              "            <td>8201</td>\n",
              "        </tr>\n",
              "    </tbody>\n",
              "</table>"
            ],
            "text/plain": [
              "[('West Garfield Park', 10934),\n",
              " ('South Lawndale', 10402),\n",
              " ('Fuller Park', 10432),\n",
              " ('Riverdale', 8201)]"
            ]
          },
          "metadata": {},
          "execution_count": 6
        }
      ]
    },
    {
      "cell_type": "markdown",
      "metadata": {
        "id": "icAUG2eFjCVW"
      },
      "source": [
        "### Problem 3\n",
        "\n",
        "##### List all case numbers for crimes  involving minors?(children are not considered minors for the purposes of crime analysis)\n"
      ]
    },
    {
      "cell_type": "code",
      "metadata": {
        "colab": {
          "base_uri": "https://localhost:8080/",
          "height": 158
        },
        "id": "RinbKGjLjCVW",
        "outputId": "35bd9b98-ebcc-4449-a50f-96993140fffb"
      },
      "source": [
        "%sql select CASE_NUMBER from Chicago_Crime_Data where PRIMARY_TYPE = 'OFFENSE INVOLVING CHILDREN';"
      ],
      "execution_count": null,
      "outputs": [
        {
          "output_type": "stream",
          "name": "stdout",
          "text": [
            " * ibm_db_sa://lbn23443:***@b0aebb68-94fa-46ec-a1fc-1c999edb6187.c3n41cmd0nqnrk39u98g.databases.appdomain.cloud:31249/bludb\n",
            "Done.\n"
          ]
        },
        {
          "output_type": "execute_result",
          "data": {
            "text/html": [
              "<table>\n",
              "    <thead>\n",
              "        <tr>\n",
              "            <th>case_number</th>\n",
              "        </tr>\n",
              "    </thead>\n",
              "    <tbody>\n",
              "        <tr>\n",
              "            <td>HN567387</td>\n",
              "        </tr>\n",
              "        <tr>\n",
              "            <td>HR391350</td>\n",
              "        </tr>\n",
              "        <tr>\n",
              "            <td>HM768251</td>\n",
              "        </tr>\n",
              "        <tr>\n",
              "            <td>HT394616</td>\n",
              "        </tr>\n",
              "    </tbody>\n",
              "</table>"
            ],
            "text/plain": [
              "[('HN567387',), ('HR391350',), ('HM768251',), ('HT394616',)]"
            ]
          },
          "metadata": {},
          "execution_count": 8
        }
      ]
    },
    {
      "cell_type": "code",
      "metadata": {
        "colab": {
          "base_uri": "https://localhost:8080/",
          "height": 1000
        },
        "id": "9yp38lkuvS7A",
        "outputId": "c98e45f2-58ce-4c7f-a72a-71dbef514303"
      },
      "source": [
        "%sql select unique(DESCRIPTION) from Chicago_Crime_Data;"
      ],
      "execution_count": null,
      "outputs": [
        {
          "output_type": "stream",
          "name": "stdout",
          "text": [
            " * ibm_db_sa://lbn23443:***@b0aebb68-94fa-46ec-a1fc-1c999edb6187.c3n41cmd0nqnrk39u98g.databases.appdomain.cloud:31249/bludb\n",
            "Done.\n"
          ]
        },
        {
          "output_type": "execute_result",
          "data": {
            "text/html": [
              "<table>\n",
              "    <thead>\n",
              "        <tr>\n",
              "            <th>description</th>\n",
              "        </tr>\n",
              "    </thead>\n",
              "    <tbody>\n",
              "        <tr>\n",
              "            <td>$500 AND UNDER</td>\n",
              "        </tr>\n",
              "        <tr>\n",
              "            <td>AGG CRIM SEX ABUSE FAM MEMBER</td>\n",
              "        </tr>\n",
              "        <tr>\n",
              "            <td>AGG CRIMINAL SEXUAL ABUSE</td>\n",
              "        </tr>\n",
              "        <tr>\n",
              "            <td>AGG PO HANDS NO/MIN INJURY</td>\n",
              "        </tr>\n",
              "        <tr>\n",
              "            <td>AGG RIT MUT: HANDS/FIST/FEET SERIOUS INJURY</td>\n",
              "        </tr>\n",
              "        <tr>\n",
              "            <td>AGG SEX ASSLT OF CHILD FAM MBR</td>\n",
              "        </tr>\n",
              "        <tr>\n",
              "            <td>AGG: FINANCIAL ID THEFT</td>\n",
              "        </tr>\n",
              "        <tr>\n",
              "            <td>AGGRAVATED</td>\n",
              "        </tr>\n",
              "        <tr>\n",
              "            <td>AGGRAVATED DOMESTIC BATTERY</td>\n",
              "        </tr>\n",
              "        <tr>\n",
              "            <td>AGGRAVATED DOMESTIC BATTERY: OTHER DANG WEAPON</td>\n",
              "        </tr>\n",
              "        <tr>\n",
              "            <td>AGGRAVATED PO: OTHER DANG WEAP</td>\n",
              "        </tr>\n",
              "        <tr>\n",
              "            <td>AGGRAVATED VEHICULAR HIJACKING</td>\n",
              "        </tr>\n",
              "        <tr>\n",
              "            <td>AGGRAVATED: HANDGUN</td>\n",
              "        </tr>\n",
              "        <tr>\n",
              "            <td>AGGRAVATED: OTHER DANG WEAPON</td>\n",
              "        </tr>\n",
              "        <tr>\n",
              "            <td>AGGRAVATED:KNIFE/CUTTING INSTR</td>\n",
              "        </tr>\n",
              "        <tr>\n",
              "            <td>ARMED: HANDGUN</td>\n",
              "        </tr>\n",
              "        <tr>\n",
              "            <td>ARMED:KNIFE/CUTTING INSTRUMENT</td>\n",
              "        </tr>\n",
              "        <tr>\n",
              "            <td>ATT: AUTOMOBILE</td>\n",
              "        </tr>\n",
              "        <tr>\n",
              "            <td>ATTEMPT NON-AGGRAVATED</td>\n",
              "        </tr>\n",
              "        <tr>\n",
              "            <td>ATTEMPT POSSESSION NARCOTICS</td>\n",
              "        </tr>\n",
              "        <tr>\n",
              "            <td>ATTEMPT THEFT</td>\n",
              "        </tr>\n",
              "        <tr>\n",
              "            <td>AUTOMOBILE</td>\n",
              "        </tr>\n",
              "        <tr>\n",
              "            <td>BOGUS CHECK</td>\n",
              "        </tr>\n",
              "        <tr>\n",
              "            <td>BOMB THREAT</td>\n",
              "        </tr>\n",
              "        <tr>\n",
              "            <td>BY FIRE</td>\n",
              "        </tr>\n",
              "        <tr>\n",
              "            <td>CALL OPERATION</td>\n",
              "        </tr>\n",
              "        <tr>\n",
              "            <td>CHILD ABDUCTION/STRANGER</td>\n",
              "        </tr>\n",
              "        <tr>\n",
              "            <td>CREDIT CARD FRAUD</td>\n",
              "        </tr>\n",
              "        <tr>\n",
              "            <td>CRIM SEX ABUSE BY FAM MEMBER</td>\n",
              "        </tr>\n",
              "        <tr>\n",
              "            <td>CRIMINAL DEFACEMENT</td>\n",
              "        </tr>\n",
              "        <tr>\n",
              "            <td>CYBERSTALKING</td>\n",
              "        </tr>\n",
              "        <tr>\n",
              "            <td>DOMESTIC BATTERY SIMPLE</td>\n",
              "        </tr>\n",
              "        <tr>\n",
              "            <td>DOMESTIC VIOLENCE</td>\n",
              "        </tr>\n",
              "        <tr>\n",
              "            <td>ESCAPE</td>\n",
              "        </tr>\n",
              "        <tr>\n",
              "            <td>FALSE/STOLEN/ALTERED TRP</td>\n",
              "        </tr>\n",
              "        <tr>\n",
              "            <td>FINANCIAL ID THEFT: OVER $300</td>\n",
              "        </tr>\n",
              "        <tr>\n",
              "            <td>FINANCIAL IDENTITY THEFT OVER $ 300</td>\n",
              "        </tr>\n",
              "        <tr>\n",
              "            <td>FIRST DEGREE MURDER</td>\n",
              "        </tr>\n",
              "        <tr>\n",
              "            <td>FOID - REVOCATION</td>\n",
              "        </tr>\n",
              "        <tr>\n",
              "            <td>FORCIBLE ENTRY</td>\n",
              "        </tr>\n",
              "        <tr>\n",
              "            <td>FORGERY</td>\n",
              "        </tr>\n",
              "        <tr>\n",
              "            <td>FOUND SUSPECT NARCOTICS</td>\n",
              "        </tr>\n",
              "        <tr>\n",
              "            <td>FRAUD OR CONFIDENCE GAME</td>\n",
              "        </tr>\n",
              "        <tr>\n",
              "            <td>FROM BUILDING</td>\n",
              "        </tr>\n",
              "        <tr>\n",
              "            <td>GAME/DICE</td>\n",
              "        </tr>\n",
              "        <tr>\n",
              "            <td>HARASSMENT BY ELECTRONIC MEANS</td>\n",
              "        </tr>\n",
              "        <tr>\n",
              "            <td>HARASSMENT BY TELEPHONE</td>\n",
              "        </tr>\n",
              "        <tr>\n",
              "            <td>ILLEGAL CONSUMPTION BY MINOR</td>\n",
              "        </tr>\n",
              "        <tr>\n",
              "            <td>ILLEGAL USE CASH CARD</td>\n",
              "        </tr>\n",
              "        <tr>\n",
              "            <td>INTIMIDATION</td>\n",
              "        </tr>\n",
              "        <tr>\n",
              "            <td>INTOXICATING COMPOUNDS</td>\n",
              "        </tr>\n",
              "        <tr>\n",
              "            <td>INVOLUNTARY SERVITUDE</td>\n",
              "        </tr>\n",
              "        <tr>\n",
              "            <td>LICENSED PREMISE</td>\n",
              "        </tr>\n",
              "        <tr>\n",
              "            <td>LOST PASSPORT</td>\n",
              "        </tr>\n",
              "        <tr>\n",
              "            <td>MANU/DEL:CANNABIS 10GM OR LESS</td>\n",
              "        </tr>\n",
              "        <tr>\n",
              "            <td>MANU/DELIVER: HEROIN (WHITE)</td>\n",
              "        </tr>\n",
              "        <tr>\n",
              "            <td>MANU/DELIVER: METHAMPHETAMINES</td>\n",
              "        </tr>\n",
              "        <tr>\n",
              "            <td>MANU/DELIVER:CRACK</td>\n",
              "        </tr>\n",
              "        <tr>\n",
              "            <td>NON-AGGRAVATED</td>\n",
              "        </tr>\n",
              "        <tr>\n",
              "            <td>NOTIFICATION OF CIVIL NO CONTACT ORDER</td>\n",
              "        </tr>\n",
              "        <tr>\n",
              "            <td>OBSCENE MATTER</td>\n",
              "        </tr>\n",
              "        <tr>\n",
              "            <td>OBSCENE TELEPHONE CALLS</td>\n",
              "        </tr>\n",
              "        <tr>\n",
              "            <td>OTHER</td>\n",
              "        </tr>\n",
              "        <tr>\n",
              "            <td>OTHER CRIME AGAINST PERSON</td>\n",
              "        </tr>\n",
              "        <tr>\n",
              "            <td>OTHER VEHICLE OFFENSE</td>\n",
              "        </tr>\n",
              "        <tr>\n",
              "            <td>OVER $500</td>\n",
              "        </tr>\n",
              "        <tr>\n",
              "            <td>PAROLE VIOLATION</td>\n",
              "        </tr>\n",
              "        <tr>\n",
              "            <td>POCKET-PICKING</td>\n",
              "        </tr>\n",
              "        <tr>\n",
              "            <td>POSS: CANNABIS 30GMS OR LESS</td>\n",
              "        </tr>\n",
              "        <tr>\n",
              "            <td>POSS: COCAINE</td>\n",
              "        </tr>\n",
              "        <tr>\n",
              "            <td>POSS: CRACK</td>\n",
              "        </tr>\n",
              "        <tr>\n",
              "            <td>POSS: HEROIN(WHITE)</td>\n",
              "        </tr>\n",
              "        <tr>\n",
              "            <td>PRO EMP HANDS NO/MIN INJURY</td>\n",
              "        </tr>\n",
              "        <tr>\n",
              "            <td>PROBATION VIOLATION</td>\n",
              "        </tr>\n",
              "        <tr>\n",
              "            <td>PURSE-SNATCHING</td>\n",
              "        </tr>\n",
              "        <tr>\n",
              "            <td>RECKLESS CONDUCT</td>\n",
              "        </tr>\n",
              "        <tr>\n",
              "            <td>RESIST/OBSTRUCT/DISARM OFFICER</td>\n",
              "        </tr>\n",
              "        <tr>\n",
              "            <td>RETAIL THEFT</td>\n",
              "        </tr>\n",
              "        <tr>\n",
              "            <td>SELL/GIVE/DEL LIQUOR TO MINOR</td>\n",
              "        </tr>\n",
              "        <tr>\n",
              "            <td>SEX ASSLT OF CHILD BY FAM MBR</td>\n",
              "        </tr>\n",
              "        <tr>\n",
              "            <td>SEX OFFENDER: FAIL REG NEW ADD</td>\n",
              "        </tr>\n",
              "        <tr>\n",
              "            <td>SIMPLE</td>\n",
              "        </tr>\n",
              "        <tr>\n",
              "            <td>SOLICIT FOR BUSINESS</td>\n",
              "        </tr>\n",
              "        <tr>\n",
              "            <td>SOLICIT NARCOTICS ON PUBLICWAY</td>\n",
              "        </tr>\n",
              "        <tr>\n",
              "            <td>SOLICIT ON PUBLIC WAY</td>\n",
              "        </tr>\n",
              "        <tr>\n",
              "            <td>STRONGARM - NO WEAPON</td>\n",
              "        </tr>\n",
              "        <tr>\n",
              "            <td>TELEPHONE THREAT</td>\n",
              "        </tr>\n",
              "        <tr>\n",
              "            <td>THEFT BY LESSEE,MOTOR VEH</td>\n",
              "        </tr>\n",
              "        <tr>\n",
              "            <td>THEFT OF LABOR/SERVICES</td>\n",
              "        </tr>\n",
              "        <tr>\n",
              "            <td>THEFT OF LOST/MISLAID PROP</td>\n",
              "        </tr>\n",
              "        <tr>\n",
              "            <td>THEFT/RECOVERY: AUTOMOBILE</td>\n",
              "        </tr>\n",
              "        <tr>\n",
              "            <td>TO CITY OF CHICAGO PROPERTY</td>\n",
              "        </tr>\n",
              "        <tr>\n",
              "            <td>TO LAND</td>\n",
              "        </tr>\n",
              "        <tr>\n",
              "            <td>TO PROPERTY</td>\n",
              "        </tr>\n",
              "        <tr>\n",
              "            <td>TO RESIDENCE</td>\n",
              "        </tr>\n",
              "        <tr>\n",
              "            <td>TO STATE SUP LAND</td>\n",
              "        </tr>\n",
              "        <tr>\n",
              "            <td>TO VEHICLE</td>\n",
              "        </tr>\n",
              "        <tr>\n",
              "            <td>TRUCK, BUS, MOTOR HOME</td>\n",
              "        </tr>\n",
              "        <tr>\n",
              "            <td>UNLAWFUL ENTRY</td>\n",
              "        </tr>\n",
              "        <tr>\n",
              "            <td>UNLAWFUL POSS OF HANDGUN</td>\n",
              "        </tr>\n",
              "        <tr>\n",
              "            <td>UNLAWFUL POSS OTHER FIREARM</td>\n",
              "        </tr>\n",
              "        <tr>\n",
              "            <td>VEHICULAR HIJACKING</td>\n",
              "        </tr>\n",
              "        <tr>\n",
              "            <td>VIOLATE ORDER OF PROTECTION</td>\n",
              "        </tr>\n",
              "    </tbody>\n",
              "</table>"
            ],
            "text/plain": [
              "[('$500 AND UNDER',),\n",
              " ('AGG CRIM SEX ABUSE FAM MEMBER',),\n",
              " ('AGG CRIMINAL SEXUAL ABUSE',),\n",
              " ('AGG PO HANDS NO/MIN INJURY',),\n",
              " ('AGG RIT MUT: HANDS/FIST/FEET SERIOUS INJURY',),\n",
              " ('AGG SEX ASSLT OF CHILD FAM MBR',),\n",
              " ('AGG: FINANCIAL ID THEFT',),\n",
              " ('AGGRAVATED',),\n",
              " ('AGGRAVATED DOMESTIC BATTERY',),\n",
              " ('AGGRAVATED DOMESTIC BATTERY: OTHER DANG WEAPON',),\n",
              " ('AGGRAVATED PO: OTHER DANG WEAP',),\n",
              " ('AGGRAVATED VEHICULAR HIJACKING',),\n",
              " ('AGGRAVATED: HANDGUN',),\n",
              " ('AGGRAVATED: OTHER DANG WEAPON',),\n",
              " ('AGGRAVATED:KNIFE/CUTTING INSTR',),\n",
              " ('ARMED: HANDGUN',),\n",
              " ('ARMED:KNIFE/CUTTING INSTRUMENT',),\n",
              " ('ATT: AUTOMOBILE',),\n",
              " ('ATTEMPT NON-AGGRAVATED',),\n",
              " ('ATTEMPT POSSESSION NARCOTICS',),\n",
              " ('ATTEMPT THEFT',),\n",
              " ('AUTOMOBILE',),\n",
              " ('BOGUS CHECK',),\n",
              " ('BOMB THREAT',),\n",
              " ('BY FIRE',),\n",
              " ('CALL OPERATION',),\n",
              " ('CHILD ABDUCTION/STRANGER',),\n",
              " ('CREDIT CARD FRAUD',),\n",
              " ('CRIM SEX ABUSE BY FAM MEMBER',),\n",
              " ('CRIMINAL DEFACEMENT',),\n",
              " ('CYBERSTALKING',),\n",
              " ('DOMESTIC BATTERY SIMPLE',),\n",
              " ('DOMESTIC VIOLENCE',),\n",
              " ('ESCAPE',),\n",
              " ('FALSE/STOLEN/ALTERED TRP',),\n",
              " ('FINANCIAL ID THEFT: OVER $300',),\n",
              " ('FINANCIAL IDENTITY THEFT OVER $ 300',),\n",
              " ('FIRST DEGREE MURDER',),\n",
              " ('FOID - REVOCATION',),\n",
              " ('FORCIBLE ENTRY',),\n",
              " ('FORGERY',),\n",
              " ('FOUND SUSPECT NARCOTICS',),\n",
              " ('FRAUD OR CONFIDENCE GAME',),\n",
              " ('FROM BUILDING',),\n",
              " ('GAME/DICE',),\n",
              " ('HARASSMENT BY ELECTRONIC MEANS',),\n",
              " ('HARASSMENT BY TELEPHONE',),\n",
              " ('ILLEGAL CONSUMPTION BY MINOR',),\n",
              " ('ILLEGAL USE CASH CARD',),\n",
              " ('INTIMIDATION',),\n",
              " ('INTOXICATING COMPOUNDS',),\n",
              " ('INVOLUNTARY SERVITUDE',),\n",
              " ('LICENSED PREMISE',),\n",
              " ('LOST PASSPORT',),\n",
              " ('MANU/DEL:CANNABIS 10GM OR LESS',),\n",
              " ('MANU/DELIVER: HEROIN (WHITE)',),\n",
              " ('MANU/DELIVER: METHAMPHETAMINES',),\n",
              " ('MANU/DELIVER:CRACK',),\n",
              " ('NON-AGGRAVATED',),\n",
              " ('NOTIFICATION OF CIVIL NO CONTACT ORDER',),\n",
              " ('OBSCENE MATTER',),\n",
              " ('OBSCENE TELEPHONE CALLS',),\n",
              " ('OTHER',),\n",
              " ('OTHER CRIME AGAINST PERSON',),\n",
              " ('OTHER VEHICLE OFFENSE',),\n",
              " ('OVER $500',),\n",
              " ('PAROLE VIOLATION',),\n",
              " ('POCKET-PICKING',),\n",
              " ('POSS: CANNABIS 30GMS OR LESS',),\n",
              " ('POSS: COCAINE',),\n",
              " ('POSS: CRACK',),\n",
              " ('POSS: HEROIN(WHITE)',),\n",
              " ('PRO EMP HANDS NO/MIN INJURY',),\n",
              " ('PROBATION VIOLATION',),\n",
              " ('PURSE-SNATCHING',),\n",
              " ('RECKLESS CONDUCT',),\n",
              " ('RESIST/OBSTRUCT/DISARM OFFICER',),\n",
              " ('RETAIL THEFT',),\n",
              " ('SELL/GIVE/DEL LIQUOR TO MINOR',),\n",
              " ('SEX ASSLT OF CHILD BY FAM MBR',),\n",
              " ('SEX OFFENDER: FAIL REG NEW ADD',),\n",
              " ('SIMPLE',),\n",
              " ('SOLICIT FOR BUSINESS',),\n",
              " ('SOLICIT NARCOTICS ON PUBLICWAY',),\n",
              " ('SOLICIT ON PUBLIC WAY',),\n",
              " ('STRONGARM - NO WEAPON',),\n",
              " ('TELEPHONE THREAT',),\n",
              " ('THEFT BY LESSEE,MOTOR VEH',),\n",
              " ('THEFT OF LABOR/SERVICES',),\n",
              " ('THEFT OF LOST/MISLAID PROP',),\n",
              " ('THEFT/RECOVERY: AUTOMOBILE',),\n",
              " ('TO CITY OF CHICAGO PROPERTY',),\n",
              " ('TO LAND',),\n",
              " ('TO PROPERTY',),\n",
              " ('TO RESIDENCE',),\n",
              " ('TO STATE SUP LAND',),\n",
              " ('TO VEHICLE',),\n",
              " ('TRUCK, BUS, MOTOR HOME',),\n",
              " ('UNLAWFUL ENTRY',),\n",
              " ('UNLAWFUL POSS OF HANDGUN',),\n",
              " ('UNLAWFUL POSS OTHER FIREARM',),\n",
              " ('VEHICULAR HIJACKING',),\n",
              " ('VIOLATE ORDER OF PROTECTION',)]"
            ]
          },
          "metadata": {},
          "execution_count": 16
        }
      ]
    },
    {
      "cell_type": "markdown",
      "metadata": {
        "id": "0umu2-EOjCVX"
      },
      "source": [
        "### Problem 4\n",
        "\n",
        "##### List all kidnapping crimes involving a child?\n"
      ]
    },
    {
      "cell_type": "code",
      "metadata": {
        "colab": {
          "base_uri": "https://localhost:8080/",
          "height": 95
        },
        "id": "Q9alFgJ-jCVX",
        "outputId": "56cbe03f-3020-4e26-85bc-eccd3b8c5170"
      },
      "source": [
        "%sql select PRIMARY_TYPE from Chicago_Crime_Data where PRIMARY_TYPE='KIDNAPPING' and DESCRIPTION like '%CHILD%';"
      ],
      "execution_count": null,
      "outputs": [
        {
          "output_type": "stream",
          "name": "stdout",
          "text": [
            " * ibm_db_sa://lbn23443:***@b0aebb68-94fa-46ec-a1fc-1c999edb6187.c3n41cmd0nqnrk39u98g.databases.appdomain.cloud:31249/bludb\n",
            "Done.\n"
          ]
        },
        {
          "output_type": "execute_result",
          "data": {
            "text/html": [
              "<table>\n",
              "    <thead>\n",
              "        <tr>\n",
              "            <th>primary_type</th>\n",
              "        </tr>\n",
              "    </thead>\n",
              "    <tbody>\n",
              "        <tr>\n",
              "            <td>KIDNAPPING</td>\n",
              "        </tr>\n",
              "    </tbody>\n",
              "</table>"
            ],
            "text/plain": [
              "[('KIDNAPPING',)]"
            ]
          },
          "metadata": {},
          "execution_count": 17
        }
      ]
    },
    {
      "cell_type": "markdown",
      "metadata": {
        "id": "l_58SqREjCVX"
      },
      "source": [
        "### Problem 5\n",
        "\n",
        "##### What kinds of crimes were recorded at schools?\n"
      ]
    },
    {
      "cell_type": "code",
      "metadata": {
        "colab": {
          "base_uri": "https://localhost:8080/",
          "height": 179
        },
        "id": "zhAuvFRujCVX",
        "outputId": "bb930ab4-3cee-48a6-c204-c2f83534858f"
      },
      "source": [
        "%sql select NAME_OF_SCHOOL, PRIMARY_TYPE from Chicago_Crime_Data c, Chicago_Public_Schools s where c.COMMUNITY_AREA_NUMBER = s.COMMUNITY_AREA_NUMBER limit 5;"
      ],
      "execution_count": null,
      "outputs": [
        {
          "output_type": "stream",
          "name": "stdout",
          "text": [
            " * ibm_db_sa://lbn23443:***@b0aebb68-94fa-46ec-a1fc-1c999edb6187.c3n41cmd0nqnrk39u98g.databases.appdomain.cloud:31249/bludb\n",
            "Done.\n"
          ]
        },
        {
          "output_type": "execute_result",
          "data": {
            "text/html": [
              "<table>\n",
              "    <thead>\n",
              "        <tr>\n",
              "            <th>name_of_school</th>\n",
              "            <th>primary_type</th>\n",
              "        </tr>\n",
              "    </thead>\n",
              "    <tbody>\n",
              "        <tr>\n",
              "            <td>Josephine C Locke Elementary School</td>\n",
              "            <td>CRIMINAL DAMAGE</td>\n",
              "        </tr>\n",
              "        <tr>\n",
              "            <td>Josephine C Locke Elementary School</td>\n",
              "            <td>OTHER OFFENSE</td>\n",
              "        </tr>\n",
              "        <tr>\n",
              "            <td>Abraham Lincoln Elementary School</td>\n",
              "            <td>THEFT</td>\n",
              "        </tr>\n",
              "        <tr>\n",
              "            <td>Abraham Lincoln Elementary School</td>\n",
              "            <td>LIQUOR LAW VIOLATION</td>\n",
              "        </tr>\n",
              "        <tr>\n",
              "            <td>Abraham Lincoln Elementary School</td>\n",
              "            <td>BURGLARY</td>\n",
              "        </tr>\n",
              "    </tbody>\n",
              "</table>"
            ],
            "text/plain": [
              "[('Josephine C Locke Elementary School', 'CRIMINAL DAMAGE'),\n",
              " ('Josephine C Locke Elementary School', 'OTHER OFFENSE'),\n",
              " ('Abraham Lincoln Elementary School', 'THEFT'),\n",
              " ('Abraham Lincoln Elementary School', 'LIQUOR LAW VIOLATION'),\n",
              " ('Abraham Lincoln Elementary School', 'BURGLARY')]"
            ]
          },
          "metadata": {},
          "execution_count": 23
        }
      ]
    },
    {
      "cell_type": "markdown",
      "metadata": {
        "id": "ASoFSTvZjCVX"
      },
      "source": [
        "### Problem 6\n",
        "\n",
        "##### List the average safety score for all types of schools.\n"
      ]
    },
    {
      "cell_type": "code",
      "metadata": {
        "colab": {
          "base_uri": "https://localhost:8080/",
          "height": 137
        },
        "id": "JR1LhDJUjCVX",
        "outputId": "86add77c-a2cc-4855-8366-68c2b28a27fa"
      },
      "source": [
        "%sql select \"Elementary, Middle, or High School\" , AVG(SAFETY_SCORE) from Chicago_Public_Schools group by\"Elementary, Middle, or High School\";"
      ],
      "execution_count": null,
      "outputs": [
        {
          "output_type": "stream",
          "name": "stdout",
          "text": [
            " * ibm_db_sa://lbn23443:***@b0aebb68-94fa-46ec-a1fc-1c999edb6187.c3n41cmd0nqnrk39u98g.databases.appdomain.cloud:31249/bludb\n",
            "Done.\n"
          ]
        },
        {
          "output_type": "execute_result",
          "data": {
            "text/html": [
              "<table>\n",
              "    <thead>\n",
              "        <tr>\n",
              "            <th>Elementary, Middle, or High School</th>\n",
              "            <th>2</th>\n",
              "        </tr>\n",
              "    </thead>\n",
              "    <tbody>\n",
              "        <tr>\n",
              "            <td>ES</td>\n",
              "            <td>49</td>\n",
              "        </tr>\n",
              "        <tr>\n",
              "            <td>HS</td>\n",
              "            <td>49</td>\n",
              "        </tr>\n",
              "        <tr>\n",
              "            <td>MS</td>\n",
              "            <td>48</td>\n",
              "        </tr>\n",
              "    </tbody>\n",
              "</table>"
            ],
            "text/plain": [
              "[('ES', 49), ('HS', 49), ('MS', 48)]"
            ]
          },
          "metadata": {},
          "execution_count": 29
        }
      ]
    },
    {
      "cell_type": "markdown",
      "metadata": {
        "id": "kkNeW5RtjCVX"
      },
      "source": [
        "### Problem 7\n",
        "\n",
        "##### List 5 community areas with highest % of households below poverty line\n"
      ]
    },
    {
      "cell_type": "code",
      "metadata": {
        "colab": {
          "base_uri": "https://localhost:8080/",
          "height": 179
        },
        "id": "rV2J4i_ujCVX",
        "outputId": "439eab7d-6dc6-4576-aae5-e4162fd12229"
      },
      "source": [
        "%sql select community_area_name, percent_households_below_poverty from Chicago_Census_Data order by percent_households_below_poverty desc nulls last limit 5;"
      ],
      "execution_count": null,
      "outputs": [
        {
          "output_type": "stream",
          "name": "stdout",
          "text": [
            " * ibm_db_sa://lbn23443:***@b0aebb68-94fa-46ec-a1fc-1c999edb6187.c3n41cmd0nqnrk39u98g.databases.appdomain.cloud:31249/bludb\n",
            "Done.\n"
          ]
        },
        {
          "output_type": "execute_result",
          "data": {
            "text/html": [
              "<table>\n",
              "    <thead>\n",
              "        <tr>\n",
              "            <th>community_area_name</th>\n",
              "            <th>percent_households_below_poverty</th>\n",
              "        </tr>\n",
              "    </thead>\n",
              "    <tbody>\n",
              "        <tr>\n",
              "            <td>Riverdale</td>\n",
              "            <td>56.5</td>\n",
              "        </tr>\n",
              "        <tr>\n",
              "            <td>Fuller Park</td>\n",
              "            <td>51.2</td>\n",
              "        </tr>\n",
              "        <tr>\n",
              "            <td>Englewood</td>\n",
              "            <td>46.6</td>\n",
              "        </tr>\n",
              "        <tr>\n",
              "            <td>North Lawndale</td>\n",
              "            <td>43.1</td>\n",
              "        </tr>\n",
              "        <tr>\n",
              "            <td>East Garfield Park</td>\n",
              "            <td>42.4</td>\n",
              "        </tr>\n",
              "    </tbody>\n",
              "</table>"
            ],
            "text/plain": [
              "[('Riverdale', Decimal('56.5')),\n",
              " ('Fuller Park', Decimal('51.2')),\n",
              " ('Englewood', Decimal('46.6')),\n",
              " ('North Lawndale', Decimal('43.1')),\n",
              " ('East Garfield Park', Decimal('42.4'))]"
            ]
          },
          "metadata": {},
          "execution_count": 30
        }
      ]
    },
    {
      "cell_type": "markdown",
      "metadata": {
        "id": "l5vu0QhPjCVX"
      },
      "source": [
        "### Problem 8\n",
        "\n",
        "##### Which community area is most crime prone?\n"
      ]
    },
    {
      "cell_type": "code",
      "metadata": {
        "colab": {
          "base_uri": "https://localhost:8080/",
          "height": 95
        },
        "id": "ITg_XKeSjCVX",
        "outputId": "acdb22fd-7604-4e7b-be00-23880abc7a87"
      },
      "source": [
        "%sql select community_area_number, count(*) as Number_of_Crime from Chicago_Crime_Data group by community_area_number order by number_of_crime desc limit 1;"
      ],
      "execution_count": null,
      "outputs": [
        {
          "output_type": "stream",
          "name": "stdout",
          "text": [
            " * ibm_db_sa://lbn23443:***@b0aebb68-94fa-46ec-a1fc-1c999edb6187.c3n41cmd0nqnrk39u98g.databases.appdomain.cloud:31249/bludb\n",
            "Done.\n"
          ]
        },
        {
          "output_type": "execute_result",
          "data": {
            "text/html": [
              "<table>\n",
              "    <thead>\n",
              "        <tr>\n",
              "            <th>community_area_number</th>\n",
              "            <th>number_of_crime</th>\n",
              "        </tr>\n",
              "    </thead>\n",
              "    <tbody>\n",
              "        <tr>\n",
              "            <td>25</td>\n",
              "            <td>43</td>\n",
              "        </tr>\n",
              "    </tbody>\n",
              "</table>"
            ],
            "text/plain": [
              "[(25, 43)]"
            ]
          },
          "metadata": {},
          "execution_count": 31
        }
      ]
    },
    {
      "cell_type": "markdown",
      "metadata": {
        "id": "T7V3iTPyjCVX"
      },
      "source": [
        "Double-click **here** for a hint\n",
        "\n",
        "<!--\n",
        "Query for the 'community area number' that is most crime prone.\n",
        "-->\n"
      ]
    },
    {
      "cell_type": "markdown",
      "metadata": {
        "id": "uzJ0lk_yjCVX"
      },
      "source": [
        "### Problem 9\n",
        "\n",
        "##### Use a sub-query to find the name of the community area with highest hardship index\n"
      ]
    },
    {
      "cell_type": "code",
      "metadata": {
        "colab": {
          "base_uri": "https://localhost:8080/",
          "height": 95
        },
        "id": "tAJ9socNjCVY",
        "outputId": "7d7e60b5-68a5-4af3-e95b-71f9d7293b12"
      },
      "source": [
        "%sql select community_area_name from Chicago_Census_data where hardship_index = (select max(hardship_index) from chicago_census_data);"
      ],
      "execution_count": null,
      "outputs": [
        {
          "output_type": "stream",
          "name": "stdout",
          "text": [
            " * ibm_db_sa://lbn23443:***@b0aebb68-94fa-46ec-a1fc-1c999edb6187.c3n41cmd0nqnrk39u98g.databases.appdomain.cloud:31249/bludb\n",
            "Done.\n"
          ]
        },
        {
          "output_type": "execute_result",
          "data": {
            "text/html": [
              "<table>\n",
              "    <thead>\n",
              "        <tr>\n",
              "            <th>community_area_name</th>\n",
              "        </tr>\n",
              "    </thead>\n",
              "    <tbody>\n",
              "        <tr>\n",
              "            <td>Riverdale</td>\n",
              "        </tr>\n",
              "    </tbody>\n",
              "</table>"
            ],
            "text/plain": [
              "[('Riverdale',)]"
            ]
          },
          "metadata": {},
          "execution_count": 35
        }
      ]
    },
    {
      "cell_type": "markdown",
      "metadata": {
        "id": "e0C7y8K5jCVY"
      },
      "source": [
        "### Problem 10\n",
        "\n",
        "##### Use a sub-query to determine the Community Area Name with most number of crimes?\n"
      ]
    },
    {
      "cell_type": "code",
      "metadata": {
        "colab": {
          "base_uri": "https://localhost:8080/",
          "height": 1000
        },
        "id": "UY2-QHQJjCVY",
        "outputId": "a9e95d68-8486-4160-852b-2b5f3c77b479"
      },
      "source": [
        "%sql select community_area_name , count(*) from Chicago_Census_Data c, Chicago_Crime_Data s where c.community_area_number = s.community_area_number group by(community_area_name);"
      ],
      "execution_count": null,
      "outputs": [
        {
          "output_type": "stream",
          "name": "stdout",
          "text": [
            " * ibm_db_sa://lbn23443:***@b0aebb68-94fa-46ec-a1fc-1c999edb6187.c3n41cmd0nqnrk39u98g.databases.appdomain.cloud:31249/bludb\n",
            "Done.\n"
          ]
        },
        {
          "output_type": "execute_result",
          "data": {
            "text/html": [
              "<table>\n",
              "    <thead>\n",
              "        <tr>\n",
              "            <th>community_area_name</th>\n",
              "            <th>2</th>\n",
              "        </tr>\n",
              "    </thead>\n",
              "    <tbody>\n",
              "        <tr>\n",
              "            <td>Albany Park</td>\n",
              "            <td>5</td>\n",
              "        </tr>\n",
              "        <tr>\n",
              "            <td>Ashburn</td>\n",
              "            <td>8</td>\n",
              "        </tr>\n",
              "        <tr>\n",
              "            <td>Auburn Gresham</td>\n",
              "            <td>14</td>\n",
              "        </tr>\n",
              "        <tr>\n",
              "            <td>Austin</td>\n",
              "            <td>43</td>\n",
              "        </tr>\n",
              "        <tr>\n",
              "            <td>Avalon Park</td>\n",
              "            <td>4</td>\n",
              "        </tr>\n",
              "        <tr>\n",
              "            <td>Avondale</td>\n",
              "            <td>6</td>\n",
              "        </tr>\n",
              "        <tr>\n",
              "            <td>Belmont Cragin</td>\n",
              "            <td>8</td>\n",
              "        </tr>\n",
              "        <tr>\n",
              "            <td>Beverly</td>\n",
              "            <td>4</td>\n",
              "        </tr>\n",
              "        <tr>\n",
              "            <td>Bridgeport</td>\n",
              "            <td>1</td>\n",
              "        </tr>\n",
              "        <tr>\n",
              "            <td>Brighton Park</td>\n",
              "            <td>10</td>\n",
              "        </tr>\n",
              "        <tr>\n",
              "            <td>Burnside</td>\n",
              "            <td>1</td>\n",
              "        </tr>\n",
              "        <tr>\n",
              "            <td>Calumet Heights</td>\n",
              "            <td>5</td>\n",
              "        </tr>\n",
              "        <tr>\n",
              "            <td>Chatham</td>\n",
              "            <td>8</td>\n",
              "        </tr>\n",
              "        <tr>\n",
              "            <td>Chicago Lawn</td>\n",
              "            <td>12</td>\n",
              "        </tr>\n",
              "        <tr>\n",
              "            <td>Clearing</td>\n",
              "            <td>2</td>\n",
              "        </tr>\n",
              "        <tr>\n",
              "            <td>Douglas</td>\n",
              "            <td>5</td>\n",
              "        </tr>\n",
              "        <tr>\n",
              "            <td>Dunning</td>\n",
              "            <td>3</td>\n",
              "        </tr>\n",
              "        <tr>\n",
              "            <td>East Garfield Park</td>\n",
              "            <td>8</td>\n",
              "        </tr>\n",
              "        <tr>\n",
              "            <td>East Side</td>\n",
              "            <td>2</td>\n",
              "        </tr>\n",
              "        <tr>\n",
              "            <td>Edgewater</td>\n",
              "            <td>2</td>\n",
              "        </tr>\n",
              "        <tr>\n",
              "            <td>Englewood</td>\n",
              "            <td>21</td>\n",
              "        </tr>\n",
              "        <tr>\n",
              "            <td>Forest Glen</td>\n",
              "            <td>1</td>\n",
              "        </tr>\n",
              "        <tr>\n",
              "            <td>Fuller Park</td>\n",
              "            <td>2</td>\n",
              "        </tr>\n",
              "        <tr>\n",
              "            <td>Gage Park</td>\n",
              "            <td>7</td>\n",
              "        </tr>\n",
              "        <tr>\n",
              "            <td>Garfield Ridge</td>\n",
              "            <td>2</td>\n",
              "        </tr>\n",
              "        <tr>\n",
              "            <td>Grand Boulevard</td>\n",
              "            <td>8</td>\n",
              "        </tr>\n",
              "        <tr>\n",
              "            <td>Greater Grand Crossing</td>\n",
              "            <td>11</td>\n",
              "        </tr>\n",
              "        <tr>\n",
              "            <td>Hegewisch</td>\n",
              "            <td>1</td>\n",
              "        </tr>\n",
              "        <tr>\n",
              "            <td>Hermosa</td>\n",
              "            <td>3</td>\n",
              "        </tr>\n",
              "        <tr>\n",
              "            <td>Humboldt park</td>\n",
              "            <td>22</td>\n",
              "        </tr>\n",
              "        <tr>\n",
              "            <td>Hyde Park</td>\n",
              "            <td>2</td>\n",
              "        </tr>\n",
              "        <tr>\n",
              "            <td>Irving Park</td>\n",
              "            <td>8</td>\n",
              "        </tr>\n",
              "        <tr>\n",
              "            <td>Jefferson Park</td>\n",
              "            <td>2</td>\n",
              "        </tr>\n",
              "        <tr>\n",
              "            <td>Kenwood</td>\n",
              "            <td>4</td>\n",
              "        </tr>\n",
              "        <tr>\n",
              "            <td>Lake View</td>\n",
              "            <td>11</td>\n",
              "        </tr>\n",
              "        <tr>\n",
              "            <td>Lincoln Park</td>\n",
              "            <td>5</td>\n",
              "        </tr>\n",
              "        <tr>\n",
              "            <td>Lincoln Square</td>\n",
              "            <td>3</td>\n",
              "        </tr>\n",
              "        <tr>\n",
              "            <td>Logan Square</td>\n",
              "            <td>9</td>\n",
              "        </tr>\n",
              "        <tr>\n",
              "            <td>Loop</td>\n",
              "            <td>7</td>\n",
              "        </tr>\n",
              "        <tr>\n",
              "            <td>Lower West Side</td>\n",
              "            <td>9</td>\n",
              "        </tr>\n",
              "        <tr>\n",
              "            <td>McKinley Park</td>\n",
              "            <td>2</td>\n",
              "        </tr>\n",
              "        <tr>\n",
              "            <td>Montclaire</td>\n",
              "            <td>2</td>\n",
              "        </tr>\n",
              "        <tr>\n",
              "            <td>Morgan Park</td>\n",
              "            <td>1</td>\n",
              "        </tr>\n",
              "        <tr>\n",
              "            <td>Near North Side</td>\n",
              "            <td>15</td>\n",
              "        </tr>\n",
              "        <tr>\n",
              "            <td>Near South Side</td>\n",
              "            <td>1</td>\n",
              "        </tr>\n",
              "        <tr>\n",
              "            <td>Near West Side</td>\n",
              "            <td>16</td>\n",
              "        </tr>\n",
              "        <tr>\n",
              "            <td>New City</td>\n",
              "            <td>10</td>\n",
              "        </tr>\n",
              "        <tr>\n",
              "            <td>North Center</td>\n",
              "            <td>4</td>\n",
              "        </tr>\n",
              "        <tr>\n",
              "            <td>North Lawndale</td>\n",
              "            <td>16</td>\n",
              "        </tr>\n",
              "        <tr>\n",
              "            <td>Norwood Park</td>\n",
              "            <td>3</td>\n",
              "        </tr>\n",
              "        <tr>\n",
              "            <td>O&#x27;Hare</td>\n",
              "            <td>4</td>\n",
              "        </tr>\n",
              "        <tr>\n",
              "            <td>Portage Park</td>\n",
              "            <td>5</td>\n",
              "        </tr>\n",
              "        <tr>\n",
              "            <td>Pullman</td>\n",
              "            <td>3</td>\n",
              "        </tr>\n",
              "        <tr>\n",
              "            <td>Riverdale</td>\n",
              "            <td>2</td>\n",
              "        </tr>\n",
              "        <tr>\n",
              "            <td>Rogers Park</td>\n",
              "            <td>6</td>\n",
              "        </tr>\n",
              "        <tr>\n",
              "            <td>Roseland</td>\n",
              "            <td>11</td>\n",
              "        </tr>\n",
              "        <tr>\n",
              "            <td>South Chicago</td>\n",
              "            <td>9</td>\n",
              "        </tr>\n",
              "        <tr>\n",
              "            <td>South Deering</td>\n",
              "            <td>4</td>\n",
              "        </tr>\n",
              "        <tr>\n",
              "            <td>South Lawndale</td>\n",
              "            <td>8</td>\n",
              "        </tr>\n",
              "        <tr>\n",
              "            <td>South Shore</td>\n",
              "            <td>9</td>\n",
              "        </tr>\n",
              "        <tr>\n",
              "            <td>Uptown</td>\n",
              "            <td>4</td>\n",
              "        </tr>\n",
              "        <tr>\n",
              "            <td>Washington Height</td>\n",
              "            <td>3</td>\n",
              "        </tr>\n",
              "        <tr>\n",
              "            <td>West Elsdon</td>\n",
              "            <td>4</td>\n",
              "        </tr>\n",
              "        <tr>\n",
              "            <td>West Englewood</td>\n",
              "            <td>12</td>\n",
              "        </tr>\n",
              "        <tr>\n",
              "            <td>West Garfield Park</td>\n",
              "            <td>10</td>\n",
              "        </tr>\n",
              "        <tr>\n",
              "            <td>West Lawn</td>\n",
              "            <td>3</td>\n",
              "        </tr>\n",
              "        <tr>\n",
              "            <td>West Pullman</td>\n",
              "            <td>6</td>\n",
              "        </tr>\n",
              "        <tr>\n",
              "            <td>West Ridge</td>\n",
              "            <td>7</td>\n",
              "        </tr>\n",
              "        <tr>\n",
              "            <td>West Town</td>\n",
              "            <td>13</td>\n",
              "        </tr>\n",
              "        <tr>\n",
              "            <td>Woodlawn</td>\n",
              "            <td>8</td>\n",
              "        </tr>\n",
              "    </tbody>\n",
              "</table>"
            ],
            "text/plain": [
              "[('Albany Park', 5),\n",
              " ('Ashburn', 8),\n",
              " ('Auburn Gresham', 14),\n",
              " ('Austin', 43),\n",
              " ('Avalon Park', 4),\n",
              " ('Avondale', 6),\n",
              " ('Belmont Cragin', 8),\n",
              " ('Beverly', 4),\n",
              " ('Bridgeport', 1),\n",
              " ('Brighton Park', 10),\n",
              " ('Burnside', 1),\n",
              " ('Calumet Heights', 5),\n",
              " ('Chatham', 8),\n",
              " ('Chicago Lawn', 12),\n",
              " ('Clearing', 2),\n",
              " ('Douglas', 5),\n",
              " ('Dunning', 3),\n",
              " ('East Garfield Park', 8),\n",
              " ('East Side', 2),\n",
              " ('Edgewater', 2),\n",
              " ('Englewood', 21),\n",
              " ('Forest Glen', 1),\n",
              " ('Fuller Park', 2),\n",
              " ('Gage Park', 7),\n",
              " ('Garfield Ridge', 2),\n",
              " ('Grand Boulevard', 8),\n",
              " ('Greater Grand Crossing', 11),\n",
              " ('Hegewisch', 1),\n",
              " ('Hermosa', 3),\n",
              " ('Humboldt park', 22),\n",
              " ('Hyde Park', 2),\n",
              " ('Irving Park', 8),\n",
              " ('Jefferson Park', 2),\n",
              " ('Kenwood', 4),\n",
              " ('Lake View', 11),\n",
              " ('Lincoln Park', 5),\n",
              " ('Lincoln Square', 3),\n",
              " ('Logan Square', 9),\n",
              " ('Loop', 7),\n",
              " ('Lower West Side', 9),\n",
              " ('McKinley Park', 2),\n",
              " ('Montclaire', 2),\n",
              " ('Morgan Park', 1),\n",
              " ('Near North Side', 15),\n",
              " ('Near South Side', 1),\n",
              " ('Near West Side', 16),\n",
              " ('New City', 10),\n",
              " ('North Center', 4),\n",
              " ('North Lawndale', 16),\n",
              " ('Norwood Park', 3),\n",
              " (\"O'Hare\", 4),\n",
              " ('Portage Park', 5),\n",
              " ('Pullman', 3),\n",
              " ('Riverdale', 2),\n",
              " ('Rogers Park', 6),\n",
              " ('Roseland', 11),\n",
              " ('South Chicago', 9),\n",
              " ('South Deering', 4),\n",
              " ('South Lawndale', 8),\n",
              " ('South Shore', 9),\n",
              " ('Uptown', 4),\n",
              " ('Washington Height', 3),\n",
              " ('West Elsdon', 4),\n",
              " ('West Englewood', 12),\n",
              " ('West Garfield Park', 10),\n",
              " ('West Lawn', 3),\n",
              " ('West Pullman', 6),\n",
              " ('West Ridge', 7),\n",
              " ('West Town', 13),\n",
              " ('Woodlawn', 8)]"
            ]
          },
          "metadata": {},
          "execution_count": 42
        }
      ]
    },
    {
      "cell_type": "code",
      "metadata": {
        "id": "_n0lT1RZjCVY"
      },
      "source": [
        ""
      ],
      "execution_count": null,
      "outputs": []
    },
    {
      "cell_type": "markdown",
      "metadata": {
        "id": "4XEnAxtujCVY"
      },
      "source": [
        "Copyright © 2020 [cognitiveclass.ai](cognitiveclass.ai?utm_source=bducopyrightlink&utm_medium=dswb&utm_campaign=bdu). This notebook and its source code are released under the terms of the [MIT License](https://bigdatauniversity.com/mit-license?utm_medium=Exinfluencer&utm_source=Exinfluencer&utm_content=000026UJ&utm_term=10006555&utm_id=NA-SkillsNetwork-Channel-SkillsNetworkCoursesIBMDeveloperSkillsNetworkDB0201ENSkillsNetwork20127838-2021-01-01&cm_mmc=Email_Newsletter-\\_-Developer_Ed%2BTech-\\_-WW_WW-\\_-SkillsNetwork-Courses-IBMDeveloperSkillsNetwork-DB0201EN-SkillsNetwork-20127838&cm_mmca1=000026UJ&cm_mmca2=10006555&cm_mmca3=M12345678&cvosrc=email.Newsletter.M12345678&cvo_campaign=000026UJ).\n"
      ]
    },
    {
      "cell_type": "markdown",
      "metadata": {
        "id": "Z1I9CRzYjCVY"
      },
      "source": [
        "## Author(s)\n",
        "\n",
        "<h4> Hima Vasudevan </h4>\n",
        "<h4> Rav Ahuja </h4>\n",
        "<h4> Ramesh Sannreddy </h4>\n",
        "\n",
        "## Contribtuor(s)\n",
        "\n",
        "<h4> Malika Singla </h4>\n",
        "\n",
        "## Change log\n",
        "\n",
        "| Date       | Version | Changed by        | Change Description                             |\n",
        "| ---------- | ------- | ----------------- | ---------------------------------------------- |\n",
        "| 2021-05-19 | 2.4     | Lakshmi Holla     | Updated the question                           |\n",
        "| 2021-04-30 | 2.3     | Malika Singla     | Updated the libraries                          |\n",
        "| 2021-01-15 | 2.2     | Rav Ahuja         | Removed problem 11 and fixed changelog         |\n",
        "| 2020-11-25 | 2.1     | Ramesh Sannareddy | Updated the problem statements, and datasets   |\n",
        "| 2020-09-05 | 2.0     | Malika Singla     | Moved lab to course repo in GitLab             |\n",
        "| 2018-07-18 | 1.0     | Rav Ahuja         | Several updates including loading instructions |\n",
        "| 2018-05-04 | 0.1     | Hima Vasudevan    | Created initial version                        |\n",
        "\n",
        "## <h3 align=\"center\"> © IBM Corporation 2020. All rights reserved. <h3/>\n"
      ]
    }
  ]
}